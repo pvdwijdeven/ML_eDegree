{
 "cells": [
  {
   "cell_type": "code",
   "execution_count": 2,
   "metadata": {},
   "outputs": [
    {
     "name": "stdout",
     "output_type": "stream",
     "text": [
      "Enter number of games: 2\n",
      "This is game number  1\n",
      "Guess the number (between 1-25): 10\n",
      "The secret number is higher.\n",
      "Guess the number (between 1-25): 25\n",
      "The secret number is lower.\n",
      "Guess the number (between 1-25): 15\n",
      "The secret number is lower.\n",
      "Guess the number (between 1-25): 13\n",
      "Correct, it took you  4 times.\n",
      "This is game number  2\n",
      "Guess the number (between 1-25): 5\n",
      "The secret number is higher.\n",
      "Guess the number (between 1-25): 15\n",
      "Correct, it took you  2 times.\n"
     ]
    }
   ],
   "source": [
    "from random import randint\n",
    "\n",
    "def get_integer(input_question):\n",
    "    while True:\n",
    "        user_input = input (input_question)\n",
    "        try:\n",
    "            return int(user_input)\n",
    "        except ValueError:\n",
    "            print (\"That is not an integer, please try again\")\n",
    "\n",
    "def game(game_number):\n",
    "    guesses = 0\n",
    "    guess = 0\n",
    "    secret_number =  randint(1,26)\n",
    "    \n",
    "    print (\"This is game number \", game_number)\n",
    "    while guess != secret_number:\n",
    "        guess = get_integer(\"Guess the number (between 1-25): \")\n",
    "        guesses += 1\n",
    "        if guess < secret_number:\n",
    "            print (\"The secret number is higher.\")\n",
    "        elif guess > secret_number:\n",
    "            print (\"The secret number is lower.\")\n",
    "        else:\n",
    "            print (\"Correct, it took you \", guesses, \"times.\")\n",
    "\n",
    "number_of_games = get_integer(\"Enter number of games: \")\n",
    "for game_number in range(1,number_of_games+1):\n",
    "    game(game_number)"
   ]
  },
  {
   "cell_type": "code",
   "execution_count": null,
   "metadata": {},
   "outputs": [],
   "source": []
  }
 ],
 "metadata": {
  "kernelspec": {
   "display_name": "Python 3",
   "language": "python",
   "name": "python3"
  },
  "language_info": {
   "codemirror_mode": {
    "name": "ipython",
    "version": 3
   },
   "file_extension": ".py",
   "mimetype": "text/x-python",
   "name": "python",
   "nbconvert_exporter": "python",
   "pygments_lexer": "ipython3",
   "version": "3.7.3"
  }
 },
 "nbformat": 4,
 "nbformat_minor": 2
}
